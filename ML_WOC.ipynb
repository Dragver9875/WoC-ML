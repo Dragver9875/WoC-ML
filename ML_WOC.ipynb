{
  "cells": [
    {
      "cell_type": "code",
      "execution_count": 1,
      "metadata": {
        "id": "NzDEtsHGZdm2"
      },
      "outputs": [],
      "source": [
        "import numpy as np\n",
        "import pandas as pd\n",
        "import matplotlib.pyplot as plt\n",
        "from google.colab import drive"
      ]
    },
    {
      "cell_type": "markdown",
      "metadata": {
        "id": "H6jLBP9dk5nt"
      },
      "source": [
        "The given section below is the code to implement Linear Regression."
      ]
    },
    {
      "cell_type": "code",
      "execution_count": null,
      "metadata": {
        "colab": {
          "base_uri": "https://localhost:8080/"
        },
        "id": "K6D7qg2qyNf0",
        "outputId": "0b7bf9a8-e0fa-4598-8871-6b0eecdc2aa3"
      },
      "outputs": [
        {
          "name": "stdout",
          "output_type": "stream",
          "text": [
            "Mounted at /content/drive\n"
          ]
        }
      ],
      "source": [
        "drive.mount('/content/drive')\n",
        "linear_train = pd.read_csv('/content/drive/MyDrive/WoC Datasets/Linear Regression/linear_regression_train.csv')\n",
        "x = linear_train[['Feature_1', 'Feature_2', 'Feature_3', 'Feature_4', 'Feature_5', 'Feature_6', 'Feature_7', 'Feature_8', 'Feature_9', 'Feature_10', 'Feature_11', 'Feature_12', 'Feature_13', 'Feature_14', 'Feature_15', 'Feature_16', 'Feature_17', 'Feature_18', 'Feature_19', 'Feature_20', 'Feature_21', 'Feature_22', 'Feature_23', 'Feature_24', 'Feature_25']].values\n",
        "y = linear_train['Target'].values\n",
        "linear_test = pd.read_csv('/content/drive/MyDrive/WoC Datasets/Linear Regression/linear_regression_test.csv')\n",
        "x_test = linear_test[['Feature_1', 'Feature_2', 'Feature_3', 'Feature_4', 'Feature_5', 'Feature_6', 'Feature_7', 'Feature_8', 'Feature_9', 'Feature_10', 'Feature_11', 'Feature_12', 'Feature_13', 'Feature_14', 'Feature_15', 'Feature_16', 'Feature_17', 'Feature_18', 'Feature_19', 'Feature_20', 'Feature_21', 'Feature_22', 'Feature_23', 'Feature_24', 'Feature_25']].values"
      ]
    },
    {
      "cell_type": "code",
      "execution_count": null,
      "metadata": {
        "id": "pOCElh41A6eI"
      },
      "outputs": [],
      "source": [
        "alpha = 0.000001\n",
        "iterations = 48000"
      ]
    },
    {
      "cell_type": "code",
      "execution_count": null,
      "metadata": {
        "id": "fNMcvhBLnNSP"
      },
      "outputs": [],
      "source": [
        "def initialisation(x):\n",
        "  x = np.hstack((np.ones((x.shape[0], 1)), x))\n",
        "  w = np.zeros(x.shape[1])\n",
        "  return x, w"
      ]
    },
    {
      "cell_type": "code",
      "execution_count": null,
      "metadata": {
        "id": "-IG_kWjrrw6o"
      },
      "outputs": [],
      "source": [
        "def hypothesis_function(x,w):\n",
        "  y_pred = np.dot(x, w)\n",
        "  return y_pred"
      ]
    },
    {
      "cell_type": "code",
      "execution_count": null,
      "metadata": {
        "id": "I4ZhEsQz50ni"
      },
      "outputs": [],
      "source": [
        "def cost_function(x,w,y):\n",
        "  m = x.shape[0]\n",
        "  y_pred = hypothesis_function(x,w)\n",
        "  cost = np.sum(np.square(y_pred-y))/(2*m)\n",
        "  return cost"
      ]
    },
    {
      "cell_type": "code",
      "execution_count": null,
      "metadata": {
        "id": "GI5thDp1ELPx"
      },
      "outputs": [],
      "source": [
        "def gradient_descent(x,y,alpha,iterations):\n",
        "  m = x.shape[0]\n",
        "  x, w = initialisation(x)\n",
        "  cost_list = []\n",
        "  for i in range (iterations):\n",
        "    y_pred = hypothesis_function(x,w)\n",
        "    error = y_pred-y\n",
        "    dj_dw = np.dot(x.T, error)/m\n",
        "    w = w - alpha*dj_dw\n",
        "    cost = cost_function(x,w,y)\n",
        "    cost_list.append(cost)\n",
        "  return w, cost_list"
      ]
    },
    {
      "cell_type": "code",
      "execution_count": null,
      "metadata": {
        "id": "vmIr3bmVDS-z"
      },
      "outputs": [],
      "source": [
        "w, cost_list = gradient_descent(x,y,alpha,iterations)"
      ]
    },
    {
      "cell_type": "code",
      "execution_count": null,
      "metadata": {
        "id": "LKEnOg5k928O"
      },
      "outputs": [],
      "source": [
        "x_test, _ = initialisation(x_test)\n",
        "y_test_pred = hypothesis_function(x_test,w)\n",
        "df = pd.DataFrame({'Target': y_test_pred})\n",
        "df.to_csv('linear_regression_test_predictions.csv', index=False)"
      ]
    },
    {
      "cell_type": "code",
      "execution_count": null,
      "metadata": {
        "colab": {
          "base_uri": "https://localhost:8080/",
          "height": 472
        },
        "id": "D2p2NFH2EgO0",
        "outputId": "b10c6d61-d573-40b9-ebd0-82b835e7204f"
      },
      "outputs": [
        {
          "data": {
            "image/png": "[encoded data removed]",
            "text/plain": [
              "<Figure size 640x480 with 1 Axes>"
            ]
          },
          "metadata": {},
          "output_type": "display_data"
        }
      ],
      "source": [
        "plt.plot(range(iterations), cost_list, color='blue')\n",
        "plt.title('Cost History')\n",
        "plt.xlabel('Iterations')\n",
        "plt.ylabel('Cost')\n",
        "plt.grid(True)\n",
        "plt.show()"
      ]
    },
    {
      "cell_type": "markdown",
      "metadata": {
        "id": "_DnADNRcl2Wm"
      },
      "source": [
        "The code below is to implement polynomial regression."
      ]
    },
    {
      "cell_type": "code",
      "execution_count": 2,
      "metadata": {
        "colab": {
          "base_uri": "https://localhost:8080/"
        },
        "id": "uKBK3BeQLkp1",
        "outputId": "74401d9d-d049-43f8-81cd-a995731ddc2e"
      },
      "outputs": [
        {
          "output_type": "stream",
          "name": "stdout",
          "text": [
            "Drive already mounted at /content/drive; to attempt to forcibly remount, call drive.mount(\"/content/drive\", force_remount=True).\n"
          ]
        }
      ],
      "source": [
        "drive.mount('/content/drive')\n",
        "poly_train = pd.read_csv('/content/drive/MyDrive/WoC Datasets/Polynomial Regression/polynomial_regression_train.csv')\n",
        "x = poly_train[['Feature_1', 'Feature_2', 'Feature_3', 'Feature_4', 'Feature_5']].values\n",
        "y = poly_train['Target'].values\n",
        "poly_test = pd.read_csv('/content/drive/MyDrive/WoC Datasets/Polynomial Regression/polynomial_regression_test.csv')\n",
        "x_test = poly_test[['Feature_1', 'Feature_2', 'Feature_3', 'Feature_4', 'Feature_5']].values"
      ]
    },
    {
      "cell_type": "code",
      "execution_count": 3,
      "metadata": {
        "id": "g4NSg_1dgbUq"
      },
      "outputs": [],
      "source": [
        "alpha = 0.0001\n",
        "iterations = 48000\n",
        "degree = 5"
      ]
    },
    {
      "cell_type": "code",
      "execution_count": 4,
      "metadata": {
        "id": "NCGw_2Dr-jK6"
      },
      "outputs": [],
      "source": [
        "def polynomial_features(x, degree):\n",
        "    n_features = x.shape[1]\n",
        "    features = [np.ones((x.shape[0], 1))]\n",
        "    for i in range(1, degree + 1):\n",
        "        features.append(x ** i)\n",
        "    return np.hstack(features)"
      ]
    },
    {
      "cell_type": "code",
      "execution_count": 5,
      "metadata": {
        "id": "IbDlwOP9xlZk"
      },
      "outputs": [],
      "source": [
        "def poly_pred(x, w, degree):\n",
        "    x_poly = polynomial_features(x, degree)\n",
        "    return np.dot(x_poly, w)"
      ]
    },
    {
      "cell_type": "code",
      "execution_count": 6,
      "metadata": {
        "id": "-B48UufjJPfn"
      },
      "outputs": [],
      "source": [
        "def grad_descent_poly(x, y, degree, alpha, iterations):\n",
        "  x_poly = polynomial_features(x, degree)\n",
        "  m = x_poly.shape[0]\n",
        "  w = np.zeros(x_poly.shape[1])\n",
        "  cost_list=[]\n",
        "  for i in range (iterations):\n",
        "    y_pred = poly_pred(x, w, degree)\n",
        "    error = y_pred - y\n",
        "    dj_dw = np.dot(x_poly.T, error)/m\n",
        "    w = w - alpha*dj_dw\n",
        "    cost = (1/(2*m))*np.sum(error**2)\n",
        "    cost_list.append(cost)\n",
        "  return w, cost_list"
      ]
    },
    {
      "cell_type": "code",
      "execution_count": null,
      "metadata": {
        "id": "eXTXcsPynhqR"
      },
      "outputs": [],
      "source": [
        "w, cost_list = grad_descent_poly(x, y, degree, alpha, iterations)"
      ]
    },
    {
      "cell_type": "code",
      "source": [
        "def r2_score(y, y_pred):\n",
        "  y_mean = np.mean(y)\n",
        "  ss_total = np.sum((y - y_mean)**2)\n",
        "  ss_residual = np.sum((y - y_pred)**2)\n",
        "  r2 = 1 - (ss_residual / ss_total)\n",
        "  return r2"
      ],
      "metadata": {
        "id": "W-znFtfp2Px-"
      },
      "execution_count": null,
      "outputs": []
    },
    {
      "cell_type": "code",
      "source": [
        "r2 = r2_score(y, poly_pred(x, w, degree))\n",
        "print(\"R2 Score:\", r2)"
      ],
      "metadata": {
        "id": "sVuBcot62X98"
      },
      "execution_count": null,
      "outputs": []
    },
    {
      "cell_type": "code",
      "execution_count": null,
      "metadata": {
        "colab": {
          "base_uri": "https://localhost:8080/",
          "height": 472
        },
        "id": "kDM7mz-EOy2I",
        "outputId": "5e734b96-6c64-443e-cf8e-7441a3598913"
      },
      "outputs": [
        {
          "data": {
            "image/png": "[encoded data removed]",
            "text/plain": [
              "<Figure size 640x480 with 1 Axes>"
            ]
          },
          "metadata": {},
          "output_type": "display_data"
        }
      ],
      "source": [
        "plt.plot(range(iterations), cost_list, color='blue')\n",
        "plt.title('Cost History')\n",
        "plt.xlabel('Iterations')\n",
        "plt.ylabel('Cost')\n",
        "plt.grid(True)\n",
        "plt.show()"
      ]
    },
    {
      "cell_type": "code",
      "execution_count": null,
      "metadata": {
        "id": "lOXoi5aWn6p7"
      },
      "outputs": [],
      "source": [
        "y_test_pred = poly_pred(x_test, w, degree)\n",
        "df = pd.DataFrame({'Target': y_test_pred})\n",
        "df.to_csv('polynomial_regression_test_predictions.csv', index=False)"
      ]
    },
    {
      "cell_type": "markdown",
      "metadata": {
        "id": "gb4-T0q61uRU"
      },
      "source": [
        "The section below is to implement logistic regression and classification"
      ]
    },
    {
      "cell_type": "code",
      "execution_count": null,
      "metadata": {
        "colab": {
          "base_uri": "https://localhost:8080/"
        },
        "id": "WwX0zwm2yYs-",
        "outputId": "82b0179b-d012-4241-ed65-e1f21504e102"
      },
      "outputs": [
        {
          "name": "stdout",
          "output_type": "stream",
          "text": [
            "Mounted at /content/drive\n"
          ]
        }
      ],
      "source": [
        "drive.mount('/content/drive')\n",
        "log_train = pd.read_csv('/content/drive/MyDrive/WoC Datasets/Logistic Regression/binary_classification_train.csv')\n",
        "x = log_train[['Feature_1', 'Feature_2', 'Feature_3', 'Feature_4', 'Feature_5', 'Feature_6', 'Feature_7', 'Feature_8', 'Feature_8', 'Feature_9', 'Feature_10', 'Feature_11', 'Feature_12', 'Feature_13', 'Feature_14', 'Feature_15', 'Feature_16', 'Feature_17', 'Feature_18', 'Feature_19', 'Feature_20']].values\n",
        "y = log_train['Class'].values\n",
        "log_test = pd.read_csv('/content/drive/MyDrive/WoC Datasets/Logistic Regression/binary_classification_test.csv')\n",
        "x_test = log_test[['Feature_1', 'Feature_2', 'Feature_3', 'Feature_4', 'Feature_5', 'Feature_6', 'Feature_7', 'Feature_8', 'Feature_8', 'Feature_9', 'Feature_10', 'Feature_11', 'Feature_12', 'Feature_13', 'Feature_14', 'Feature_15', 'Feature_16', 'Feature_17', 'Feature_18', 'Feature_19', 'Feature_20']].values"
      ]
    },
    {
      "cell_type": "code",
      "execution_count": null,
      "metadata": {
        "id": "lCYWkQnwB5IN"
      },
      "outputs": [],
      "source": [
        "alpha = 0.0000001\n",
        "iterations = 48000"
      ]
    },
    {
      "cell_type": "code",
      "execution_count": null,
      "metadata": {
        "id": "S7kH5q4v18gq"
      },
      "outputs": [],
      "source": [
        "def sigmoid(z):\n",
        "  y = 1 / (1 + np.exp(-z))\n",
        "  return y"
      ]
    },
    {
      "cell_type": "code",
      "execution_count": null,
      "metadata": {
        "id": "V0UmZPJ2AxU6"
      },
      "outputs": [],
      "source": [
        "def log_reg(x, w):\n",
        "  z = np.dot(x, w)\n",
        "  return z"
      ]
    },
    {
      "cell_type": "code",
      "execution_count": null,
      "metadata": {
        "id": "7M7nYXHtBRtb"
      },
      "outputs": [],
      "source": [
        "def log_cost_function(x, w, y):\n",
        "  z = log_reg(x, w)\n",
        "  y_pred = sigmoid(z)\n",
        "  m = x.shape[0]\n",
        "  cost = -(1/m) * np.sum(y*np.log(y_pred) + (1 - y)*np.log(1 - y_pred))\n",
        "  return cost"
      ]
    },
    {
      "cell_type": "code",
      "execution_count": null,
      "metadata": {
        "id": "T9DsGY4sB12Q"
      },
      "outputs": [],
      "source": [
        "def log_grad_desc(x, y, alpha, iterations):\n",
        "  cost_list = []\n",
        "  m = x.shape[0]\n",
        "  x = np.hstack((np.ones((m, 1), dtype=float), x))\n",
        "  w = np.zeros(x.shape[1])\n",
        "  for i in range (iterations):\n",
        "    z = log_reg(x, w)\n",
        "    y_pred = sigmoid(z)\n",
        "    error = y_pred - y\n",
        "    dj_dw = np.dot(x.T, error)/m\n",
        "    w = w - alpha*dj_dw\n",
        "    cost = log_cost_function(x, w, y)\n",
        "    cost_list.append(cost)\n",
        "  return w, cost_list"
      ]
    },
    {
      "cell_type": "code",
      "execution_count": null,
      "metadata": {
        "id": "cXQW77_Z4nn0"
      },
      "outputs": [],
      "source": [
        "def log_reg_pred(x, w):\n",
        "  m = x.shape[0]\n",
        "  x = np.hstack((np.ones((m, 1), dtype=float), x))\n",
        "  z = log_reg(x, w)\n",
        "  y = sigmoid(z)\n",
        "  return y"
      ]
    },
    {
      "cell_type": "code",
      "execution_count": null,
      "metadata": {
        "id": "kX202b8NC3cl"
      },
      "outputs": [],
      "source": [
        "w, cost_list = log_grad_desc(x, y, alpha, iterations)"
      ]
    },
    {
      "cell_type": "code",
      "execution_count": null,
      "metadata": {
        "id": "31dfHEc140q5"
      },
      "outputs": [],
      "source": [
        "y_test_pred = log_reg_pred(x_test, w)\n",
        "df = pd.DataFrame({'Class': y_test_pred})\n",
        "df.to_csv('binary_classification_test_predictions.csv', index=False)"
      ]
    },
    {
      "cell_type": "code",
      "execution_count": null,
      "metadata": {
        "colab": {
          "base_uri": "https://localhost:8080/",
          "height": 472
        },
        "id": "vsigskvR6f4g",
        "outputId": "f7b8e383-488f-41bf-f7c9-a02489ebd974"
      },
      "outputs": [
        {
          "data": {
            "image/png": "[encoded data removed]",
            "text/plain": [
              "<Figure size 640x480 with 1 Axes>"
            ]
          },
          "metadata": {},
          "output_type": "display_data"
        }
      ],
      "source": [
        "plt.plot(range(iterations), cost_list, color='blue')\n",
        "plt.title('Cost History')\n",
        "plt.xlabel('Iterations')\n",
        "plt.ylabel('Cost')\n",
        "plt.grid(True)\n",
        "plt.show()"
      ]
    },
    {
      "cell_type": "markdown",
      "metadata": {
        "id": "izuutVBrEoxH"
      },
      "source": [
        "The code section below is to implement K-Means Clustering and K-Nearest Neighbours algorithm on a dataset of unsupervised learning."
      ]
    },
    {
      "cell_type": "code",
      "execution_count": null,
      "metadata": {
        "colab": {
          "base_uri": "https://localhost:8080/"
        },
        "id": "Xr3_Tl7_XUGI",
        "outputId": "c8b259e4-7ff0-48cf-eb45-40e76ece98ed"
      },
      "outputs": [
        {
          "name": "stdout",
          "output_type": "stream",
          "text": [
            "Drive already mounted at /content/drive; to attempt to forcibly remount, call drive.mount(\"/content/drive\", force_remount=True).\n"
          ]
        }
      ],
      "source": [
        "drive.mount('/content/drive')\n",
        "unsupervised = pd.read_csv('/content/drive/MyDrive/WoC Datasets/Unsupervised Learning/unsupervised_data.csv')\n",
        "x = unsupervised[['Feature_1', 'Feature_2', 'Feature_3', 'Feature_4', 'Feature_5', 'Feature_6']].values"
      ]
    },
    {
      "cell_type": "code",
      "execution_count": null,
      "metadata": {
        "id": "knPhrmh3u7hl"
      },
      "outputs": [],
      "source": [
        "iterations = 500\n",
        "k = 4"
      ]
    },
    {
      "cell_type": "code",
      "execution_count": null,
      "metadata": {
        "id": "bxBj72QAEoCk"
      },
      "outputs": [],
      "source": [
        "def kmc(x, k, iterations):\n",
        "  m = x.shape[0]\n",
        "  centroids = x[np.random.choice(m, k, replace=False)]\n",
        "  for i in range(iterations):\n",
        "    distances = np.linalg.norm(x[:, np.newaxis] - centroids, axis=2)\n",
        "    labels = np.argmin(distances, axis=1)\n",
        "    clusters = [x[labels == j] for j in range(k)]\n",
        "    new_centroids = np.array([np.mean(cluster, axis=0) if len(cluster) > 0 else centroids[j] for j, cluster in enumerate(clusters)])\n",
        "    cost = np.sum([np.sum((x[labels == j] - centroids[j]) ** 2) for j in range(k)])\n",
        "    if np.all(centroids == new_centroids):\n",
        "      break\n",
        "    centroids = new_centroids\n",
        "  return clusters, centroids, cost"
      ]
    },
    {
      "cell_type": "code",
      "execution_count": null,
      "metadata": {
        "id": "wmoJNWrorX6e"
      },
      "outputs": [],
      "source": [
        "def wcss(x, k_max):\n",
        "  cost_list = []\n",
        "  for k in range(1, k_max + 1):\n",
        "    clusters, centroids, cost = kmc(x, k, 500)\n",
        "    cost_list.append(cost)\n",
        "  plt.plot(range(1, k_max + 1), cost_list, color='blue')\n",
        "  plt.title('Cost History')\n",
        "  plt.xlabel('Cluster Count')\n",
        "  plt.ylabel('Cost')\n",
        "  plt.grid(True)\n",
        "  plt.show()\n",
        "  return cost_list"
      ]
    },
    {
      "cell_type": "code",
      "execution_count": null,
      "metadata": {
        "colab": {
          "base_uri": "https://localhost:8080/",
          "height": 472
        },
        "id": "Cv2hgbUN36OL",
        "outputId": "c8a652da-2bf1-4949-a11d-aaa3fcb93ab4"
      },
      "outputs": [
        {
          "data": {
            "image/png": "[encoded data removed]",
            "text/plain": [
              "<Figure size 640x480 with 1 Axes>"
            ]
          },
          "metadata": {},
          "output_type": "display_data"
        }
      ],
      "source": [
        "cost_list = wcss(x, 10)"
      ]
    },
    {
      "cell_type": "code",
      "execution_count": null,
      "metadata": {
        "id": "YvfBCILHyJLk"
      },
      "outputs": [],
      "source": [
        "def knn(x, k):\n",
        "  m = x.shape[0]\n",
        "  distances = []\n",
        "  for i in range (m):\n",
        "    distance = np.linalg.norm(x[i] - x, axis=1)\n",
        "    distance = distance.astype(np.float64)\n",
        "    distance = list(distance)\n",
        "    distance[i] = np.inf\n",
        "    distances.append(distance)\n",
        "  return np.argsort(distances, axits=1)[:, :k]"
      ]
    },
    {
      "cell_type": "code",
      "execution_count": null,
      "metadata": {
        "id": "VrM6Ksn1FwCF"
      },
      "outputs": [],
      "source": [
        "point_indices = knn(x,k)\n",
        "print(point_indices)"
      ]
    },
    {
      "cell_type": "markdown",
      "metadata": {
        "id": "cXyysHePR2Q9"
      },
      "source": [
        "The code below is to implement softmax function for multiclass classification from scratch."
      ]
    },
    {
      "cell_type": "code",
      "execution_count": null,
      "metadata": {
        "colab": {
          "base_uri": "https://localhost:8080/"
        },
        "id": "i-jOQEtaR_Qi",
        "outputId": "d80c782a-f01d-4f3e-9c9f-209651c53d12"
      },
      "outputs": [
        {
          "name": "stdout",
          "output_type": "stream",
          "text": [
            "Drive already mounted at /content/drive; to attempt to forcibly remount, call drive.mount(\"/content/drive\", force_remount=True).\n"
          ]
        }
      ],
      "source": [
        "drive.mount('/content/drive')\n",
        "log_train = pd.read_csv('/content/drive/MyDrive/WoC Datasets/Logistic Regression/multi_classification_train.csv')\n",
        "x = log_train[['Feature_1', 'Feature_2', 'Feature_3', 'Feature_4', 'Feature_5', 'Feature_6', 'Feature_7', 'Feature_8', 'Feature_8', 'Feature_9', 'Feature_10', 'Feature_11', 'Feature_12', 'Feature_13', 'Feature_14', 'Feature_15', 'Feature_16', 'Feature_17', 'Feature_18', 'Feature_19', 'Feature_20']].values\n",
        "y = log_train['Class'].values\n",
        "log_test = pd.read_csv('/content/drive/MyDrive/WoC Datasets/Logistic Regression/multi_classification_test.csv')\n",
        "x_test = log_test[['Feature_1', 'Feature_2', 'Feature_3', 'Feature_4', 'Feature_5', 'Feature_6', 'Feature_7', 'Feature_8', 'Feature_8', 'Feature_9', 'Feature_10', 'Feature_11', 'Feature_12', 'Feature_13', 'Feature_14', 'Feature_15', 'Feature_16', 'Feature_17', 'Feature_18', 'Feature_19', 'Feature_20']].values"
      ]
    },
    {
      "cell_type": "code",
      "execution_count": null,
      "metadata": {
        "id": "-lstG-CES1YG"
      },
      "outputs": [],
      "source": [
        "alpha = 0.0000001\n",
        "iterations = 48000"
      ]
    },
    {
      "cell_type": "code",
      "execution_count": null,
      "metadata": {
        "id": "43snFMGRAXt9"
      },
      "outputs": [],
      "source": [
        "def softmax(z):\n",
        "  exp_z = np.exp(z - np.max(z, axis=1, keepdims=True))\n",
        "  return exp_z / np.sum(exp_z, axis=1, keepdims=True)"
      ]
    },
    {
      "cell_type": "code",
      "execution_count": null,
      "metadata": {
        "id": "1CcBWFoZBEfu"
      },
      "outputs": [],
      "source": [
        "def log_reg(x, w):\n",
        "  z = np.dot(x, w)\n",
        "  return z"
      ]
    },
    {
      "cell_type": "code",
      "execution_count": null,
      "metadata": {
        "id": "qnFFWDcbD4Lu"
      },
      "outputs": [],
      "source": [
        "def one_hot_encoding(y):\n",
        "  num_classes = len(np.unique(y))\n",
        "  return np.eye(num_classes)[y]"
      ]
    },
    {
      "cell_type": "code",
      "execution_count": null,
      "metadata": {
        "id": "k9-ZrvieXuVF"
      },
      "outputs": [],
      "source": [
        "def log_pred(x, w):\n",
        "  z = log_reg(x, w)\n",
        "  y_pred = softmax(z)\n",
        "  return y_pred"
      ]
    },
    {
      "cell_type": "code",
      "execution_count": null,
      "metadata": {
        "id": "5z6aS-BcUBf1"
      },
      "outputs": [],
      "source": [
        "def cross_entropy_loss(x, y, w):\n",
        "  y_pred = log_pred(x, w)\n",
        "  m = x.shape[0]\n",
        "  y_ohe = one_hot_encoding(y)\n",
        "  loss = -np.sum(y_ohe * np.log(y_pred)) / m\n",
        "  return loss"
      ]
    },
    {
      "cell_type": "code",
      "execution_count": null,
      "metadata": {
        "id": "7ZYmFAzvYbBs"
      },
      "outputs": [],
      "source": [
        "def grad_desc(x, y, alpha, iterations):\n",
        "  m = x.shape[0]\n",
        "  x = np.hstack((np.ones((m, 1), dtype=float), x))\n",
        "  w = np.zeros((x.shape[1], 1))\n",
        "  y_ohe = one_hot_encoding(y)\n",
        "  cost_list = []\n",
        "  for i in range (iterations):\n",
        "    y_pred = log_pred(x, w)\n",
        "    error = y_pred - y_ohe\n",
        "    dj_dw = np.dot(x.T, error)/m\n",
        "    w = w - alpha*dj_dw\n",
        "    cost = cross_entropy_loss(x, y, w)\n",
        "    cost_list.append(cost)\n",
        "  return w, cost_list"
      ]
    },
    {
      "cell_type": "code",
      "execution_count": null,
      "metadata": {
        "colab": {
          "background_save": true
        },
        "id": "9GvIXZbuZi4g"
      },
      "outputs": [],
      "source": [
        "w, cost_list = grad_desc(x, y, alpha, iterations)"
      ]
    },
    {
      "cell_type": "code",
      "execution_count": null,
      "metadata": {
        "id": "POAxtZizZlIP"
      },
      "outputs": [],
      "source": [
        "y_test_pred = log_pred(x_test, w)\n",
        "df = pd.DataFrame({'Class': y_test_pred})\n",
        "df.to_csv('multi_classification_test_predictions.csv', index=False)"
      ]
    },
    {
      "cell_type": "code",
      "execution_count": null,
      "metadata": {
        "id": "F6Gf5x_tZoO_"
      },
      "outputs": [],
      "source": [
        "plt.plot(range(iterations), cost_list, color='blue')\n",
        "plt.title('Cost History')\n",
        "plt.xlabel('Iterations')\n",
        "plt.ylabel('Cost')\n",
        "plt.grid(True)\n",
        "plt.show()"
      ]
    },
    {
      "cell_type": "markdown",
      "metadata": {
        "id": "Gi_8thvaJMHq"
      },
      "source": [
        "The code below is to build an n-layer neural network"
      ]
    },
    {
      "cell_type": "code",
      "source": [
        "drive.mount('/content/drive')\n",
        "nn_train = pd.read_csv('/content/drive/MyDrive/WoC Datasets/Neural Network/nn_train.csv')\n",
        "x = nn_train[[f\"Feature_{i}\" for i in range(1, 1025)]].values\n",
        "y_binary = nn_train[['binary_label']].values\n",
        "y_multi = nn_train[['class_label']].values\n",
        "nn_test = pd.read_csv('/content/drive/MyDrive/WoC Datasets/Neural Network/nn_test.csv')\n",
        "x_test = nn_test[[f\"Feature_{i}\" for i in range(1, 1025)]].values"
      ],
      "metadata": {
        "id": "kdEMcPFLYPsF",
        "colab": {
          "base_uri": "https://localhost:8080/"
        },
        "outputId": "64d54f1a-7b86-4d28-a2d4-c11bdfeab563"
      },
      "execution_count": 4,
      "outputs": [
        {
          "output_type": "stream",
          "name": "stdout",
          "text": [
            "Drive already mounted at /content/drive; to attempt to forcibly remount, call drive.mount(\"/content/drive\", force_remount=True).\n"
          ]
        }
      ]
    },
    {
      "cell_type": "code",
      "source": [
        "def process_chunk(chunk):\n",
        "    mean_values = np.mean(chunk, axis=0)\n",
        "filename = 'nn_train'\n",
        "chunk_size = 10**4\n",
        "with open(filename, 'r') as file:\n",
        "    header = next(file)\n",
        "    while True:\n",
        "        lines = [file.readline() for _ in range(chunk_size)]\n",
        "        lines = [line.strip().split(',') for line in lines if line]\n",
        "        if not lines:\n",
        "            break\n",
        "        chunk = np.array(lines, dtype=float)\n",
        "        process_chunk(chunk)"
      ],
      "metadata": {
        "id": "XnVtQkrI9j-9"
      },
      "execution_count": null,
      "outputs": []
    },
    {
      "cell_type": "code",
      "source": [
        "iterations = 80000\n",
        "alpha = 0.0001\n",
        "n = 5"
      ],
      "metadata": {
        "id": "lz79ZtjuaurS"
      },
      "execution_count": 5,
      "outputs": []
    },
    {
      "cell_type": "code",
      "execution_count": 6,
      "metadata": {
        "id": "2--yA-YWLZu0"
      },
      "outputs": [],
      "source": [
        "def sigmoid(z):\n",
        "  return 1 / (1 + np.exp(-z))"
      ]
    },
    {
      "cell_type": "code",
      "source": [
        "def sigmoid_derivative(z):\n",
        "  return sigmoid(z) * (1 - sigmoid(z))"
      ],
      "metadata": {
        "id": "av8SN0XS4Mmn"
      },
      "execution_count": 7,
      "outputs": []
    },
    {
      "cell_type": "code",
      "source": [
        "def relu(z):\n",
        "  return np.maximum(0, z)"
      ],
      "metadata": {
        "id": "wA1TN6er4Twk"
      },
      "execution_count": 8,
      "outputs": []
    },
    {
      "cell_type": "code",
      "source": [
        "def relu_derivative(z):\n",
        "  return np.where(z > 0, 1, 0)"
      ],
      "metadata": {
        "id": "BHf7gXhA4VNj"
      },
      "execution_count": 9,
      "outputs": []
    },
    {
      "cell_type": "code",
      "source": [
        "def softmax(z):\n",
        "  exp_z = np.exp(z - np.max(z, axis=1, keepdims=True))\n",
        "  return exp_z / np.sum(exp_z, axis=1, keepdims=True)"
      ],
      "metadata": {
        "id": "5INujI98MvTk"
      },
      "execution_count": 10,
      "outputs": []
    },
    {
      "cell_type": "code",
      "source": [
        "def layer_dimensions(layer_dims):\n",
        "  structure = {}\n",
        "  for i in range(1, len(layer_dims)):\n",
        "    structure[f\"w{i}\"] = np.random.randn(int(layer_dims[i]), int(layer_dims[i-1])) * 0.0001\n",
        "    structure[f\"b{i}\"] = np.zeros((int(layer_dims[i]), 1))\n",
        "  return structure"
      ],
      "metadata": {
        "id": "9sZ_jaCtMzuH"
      },
      "execution_count": 11,
      "outputs": []
    },
    {
      "cell_type": "code",
      "source": [
        "def forward_propagation(x, structure, activations):\n",
        "  caches = []\n",
        "  A = x.T\n",
        "  for i in range(1, len(structure)//2 +1):\n",
        "    w = structure[f\"w{i}\"]\n",
        "    b = structure[f\"b{i}\"]\n",
        "    z = np.dot(w, A) + b\n",
        "    A = activations[i-1](z)\n",
        "    cache = (A, w, b, z)\n",
        "    caches.append(cache)\n",
        "  return A, caches"
      ],
      "metadata": {
        "id": "3JrVeAc6VSsL"
      },
      "execution_count": 12,
      "outputs": []
    },
    {
      "cell_type": "code",
      "source": [
        "def binary_cost(AL, y):\n",
        "  m = y.shape[1]\n",
        "  cost = -(1/m) * np.sum(y*np.log(AL) + (1 - y)*np.log(1 - AL))\n",
        "  return np.squeeze(cost)"
      ],
      "metadata": {
        "id": "IQQZxXpqWwT5"
      },
      "execution_count": 13,
      "outputs": []
    },
    {
      "cell_type": "code",
      "source": [
        "def back_propagation(AL, y, caches, activation_deriv):\n",
        "  grads = {}\n",
        "  L = len(caches)\n",
        "  m = y.shape[1]\n",
        "  dAL = - (np.divide(y, AL) - np.divide(1 - y, 1 - AL))\n",
        "  for i in reversed(range(L)):\n",
        "    A, w, b, z = caches[i]\n",
        "    activation_derivative = activation_deriv[i]\n",
        "    if i == L-1:\n",
        "      dZ = dAL * activation_derivative(z)\n",
        "    else:\n",
        "      dZ = np.dot(w.T, dAL) * activation_derivative(z)\n",
        "    grads[f\"dw{i+1}\"] = np.dot(dZ, A.T) / m\n",
        "    grads[f\"db{i+1}\"] = np.sum(dZ, axis=1, keepdims=True) / m\n",
        "    dAL = np.dot(w.T, dZ)\n",
        "  return grads"
      ],
      "metadata": {
        "id": "JJHnUhqtXQru"
      },
      "execution_count": 14,
      "outputs": []
    },
    {
      "cell_type": "code",
      "source": [
        "def update_parameters(structure, grads, alpha):\n",
        "  for i in range(1, len(structure)+1):\n",
        "    structure[f\"w{i}\"] -= alpha * grads[f\"dw{i}\"]\n",
        "    structure[f\"b{i}\"] -= alpha * grads[f\"db{i}\"]\n",
        "  return structure"
      ],
      "metadata": {
        "id": "vzmCnZ7sYwsy"
      },
      "execution_count": 15,
      "outputs": []
    },
    {
      "cell_type": "code",
      "source": [
        "def binary_classification_train(x, y, layer_dims_binary, activations, activation_deriv, alpha, iterations):\n",
        "  structure = layer_dimensions(layer_dims_binary)\n",
        "  cost_list_binary = []\n",
        "  for i in range(iterations):\n",
        "    AL, caches = forward_propagation(x, structure, activations)\n",
        "    cost = binary_cost(AL, y)\n",
        "    grads = back_propagation(AL, y, caches, activation_deriv)\n",
        "    structure = update_parameters(structure, grads, alpha)\n",
        "    cost_list_binary.append(cost)\n",
        "  return structure, cost_list_binary"
      ],
      "metadata": {
        "id": "NZoGj5vDW7Jv"
      },
      "execution_count": 16,
      "outputs": []
    },
    {
      "cell_type": "code",
      "source": [
        "def multi_cost(AL, y):\n",
        "  m = y.shape[1]\n",
        "  cost = -(1/m) * np.sum(y*np.log(AL))\n",
        "  return np.squeeze(cost)"
      ],
      "metadata": {
        "id": "4FYRy181XwUT"
      },
      "execution_count": 17,
      "outputs": []
    },
    {
      "cell_type": "code",
      "source": [
        "def multi_classification_train(x, y, layer_dims_multi, activations, activation_deriv, alpha, iterations):\n",
        "  structure = layer_dimensions(layer_dims_multi)\n",
        "  cost_list_multi = []\n",
        "  for i in range(iterations):\n",
        "    AL, caches = forward_propagation(x, structure, activations)\n",
        "    cost = multi_cost(AL, y)\n",
        "    grads = back_propagation(AL, y, caches, activation_deriv)\n",
        "    structure = update_parameters(structure, grads, alpha)\n",
        "    cost_list_multi.append(cost)\n",
        "  return structure, cost_list_multi"
      ],
      "metadata": {
        "id": "0aW-FEkzX2vZ"
      },
      "execution_count": 18,
      "outputs": []
    },
    {
      "cell_type": "code",
      "source": [
        "layer_dims_binary = []\n",
        "for i in range(n):\n",
        "  if i == 0:\n",
        "    layer_dims_binary.append(x.shape[1])\n",
        "  else:\n",
        "    layer_dims_binary.append((x.shape[1])/4)\n",
        "layer_dims_binary.append(1)\n",
        "activations = [sigmoid] * n\n",
        "activation_deriv = [sigmoid_derivative] * n\n",
        "structure_binary, cost_list_binary = binary_classification_train(x, y_binary, layer_dims_binary, activations, activation_deriv, alpha, iterations)\n",
        "plt.plot(range(iterations), cost_list_binary, color='blue')\n",
        "plt.title('Cost History Binary Classification')\n",
        "plt.xlabel('Iterations')\n",
        "plt.ylabel('Cost')\n",
        "plt.grid(True)\n",
        "plt.show()"
      ],
      "metadata": {
        "id": "lJzaDDO9fCgZ"
      },
      "execution_count": null,
      "outputs": []
    },
    {
      "cell_type": "code",
      "source": [
        "layer_dims_multi = []\n",
        "for i in range(n):\n",
        "  if i == 0:\n",
        "    layer_dims_multi.append(x.shape[1])\n",
        "  else:\n",
        "    layer_dims_multi.append((x.shape[1])/4)\n",
        "layer_dims_multi.append(y_multi.shape[1])\n",
        "activations = [relu, relu, relu, relu, softmax]\n",
        "activation_deriv = [relu_derivative, relu_derivative, relu_derivative, relu_derivative, softmax]\n",
        "structure_multi, cost_list_multi = multi_classification_train(x, y_multi, layer_dims_multi, activations, activation_deriv, alpha, iterations)\n",
        "plt.plot(range(iterations), cost_list_multi, color='blue')\n",
        "plt.title('Cost History Multi Classification')\n",
        "plt.xlabel('Iterations')\n",
        "plt.ylabel('Cost')\n",
        "plt.grid(True)\n",
        "plt.show()"
      ],
      "metadata": {
        "id": "Xb0QcD02gMTF"
      },
      "execution_count": null,
      "outputs": []
    },
    {
      "cell_type": "code",
      "source": [
        "y_test_pred_binary = forward_propagation(x_test, structure_binary, activations)[0]\n",
        "df = pd.DataFrame({'binary_label': y_test_pred_binary})\n",
        "df.to_csv('nn_test_predictions_binary.csv', index=False)"
      ],
      "metadata": {
        "id": "otDhLrwf-ShX"
      },
      "execution_count": null,
      "outputs": []
    },
    {
      "cell_type": "code",
      "source": [
        "y_test_pred_multi = forward_propagation(x_test, structure_multi, activations)[0]\n",
        "df = pd.DataFrame({'class_label': y_test_pred_multi})\n",
        "df.to_csv('nn_test_predictions_multi.csv', index=False)"
      ],
      "metadata": {
        "id": "IDbAi-Ff-bC7"
      },
      "execution_count": null,
      "outputs": []
    }
  ],
  "metadata": {
    "colab": {
      "provenance": []
    },
    "kernelspec": {
      "display_name": "Python 3",
      "name": "python3"
    },
    "language_info": {
      "name": "python"
    }
  },
  "nbformat": 4,
  "nbformat_minor": 0
}